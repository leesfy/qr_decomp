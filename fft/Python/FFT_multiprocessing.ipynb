{
 "cells": [
  {
   "cell_type": "code",
   "execution_count": 32,
   "id": "ce217b82",
   "metadata": {},
   "outputs": [],
   "source": [
    "from multiprocessing import Pool, Barrier\n",
    "import numpy as np\n",
    "import math\n",
    "import time\n",
    "from tabulate import tabulate"
   ]
  },
  {
   "cell_type": "code",
   "execution_count": 2,
   "id": "c7d9e3f1",
   "metadata": {},
   "outputs": [],
   "source": [
    "def butterfl_op(arr, block_per_process, extra, ln, wlen_pw):\n",
    "    max_deg = ln >> 1\n",
    "    for k in range(block_per_process + extra):\n",
    "        for j in range(max_deg):\n",
    "            u, v = arr[k*ln + j], arr[k*ln + max_deg + j] * wlen_pw[j]\n",
    "            arr[k*ln + j] = u + v\n",
    "            arr[k*ln + max_deg + j] = u - v\n",
    "            \n",
    "    return arr"
   ]
  },
  {
   "cell_type": "code",
   "execution_count": 3,
   "id": "26501f15",
   "metadata": {},
   "outputs": [],
   "source": [
    "def fft(arr, inv, n, num_pr):\n",
    "    if (n == 1):\n",
    "        return\n",
    "    \n",
    "    j = 0\n",
    "    for i in range(1, n):\n",
    "        bit = n >> 1\n",
    "        while (j & bit):\n",
    "            j ^= bit \n",
    "            bit >>= 1\n",
    "            \n",
    "        j ^= bit\n",
    "        if (i < j):\n",
    "            arr[i], arr[j] = arr[j], arr[i]\n",
    "\n",
    "    wlen_pw = np.zeros(n, dtype=np.complex128)\n",
    "\n",
    "    if n >= 4:\n",
    "        conj = 1j* (-1 if inv else 1)\n",
    "        for i in range(0, n, 4):\n",
    "            t1, t2 = arr[i], arr[i+1]\n",
    "            t3 = arr[i+2]\n",
    "            arr[i] = t1 + t2 + t3 + arr[i + 3]\n",
    "            arr[i + 1] = t1 - t2 - conj*(t3 - arr[i + 3])\n",
    "            arr[i + 2] = t1 + t2 - t3 - arr[i + 3]\n",
    "            arr[i + 3] = t1 - t2 + conj*(t3 - arr[i + 3])\n",
    "    elif (n >= 2):\n",
    "        for i in range(0, n, 2):\n",
    "            arr[i], arr[i + 1] = arr[i] + arr[i + 1], arr[i] - arr[i + 1]\n",
    "        \n",
    "    ln = 8\n",
    "    while (ln <= n):\n",
    "        max_deg = ln >> 1\n",
    "        ang = 2 * np.pi / ln * (1 if inv else -1)\n",
    "        wlen = np.cos(ang) + 1j*np.sin(ang)\n",
    "        wlen_pw = np.power(wlen, np.arange(0, max_deg), dtype=np.complex128)\n",
    "        \n",
    "        n_blocks = n // ln\n",
    "        if n_blocks < num_pr:\n",
    "            num_pr = n_blocks\n",
    "        \n",
    "        block_per_process = n_blocks // num_pr\n",
    "        rem_blocks = n_blocks % num_pr\n",
    "        extra = [0] * num_pr\n",
    "        offset = [0] * num_pr\n",
    "        \n",
    "        ans = [0] * num_pr\n",
    "        pool = Pool(num_pr)\n",
    "        \n",
    "        \n",
    "        for i in range(num_pr):\n",
    "            offset[i] = i * block_per_process + min(i, rem_blocks)\n",
    "            extra[i] = 1 if (i < rem_blocks) else 0\n",
    "            ans[i] = pool.apply_async(func=butterfl_op, args=(arr[offset[i]*ln: offset[i]*ln + (block_per_process + extra[i])*ln], block_per_process, extra[i], ln, wlen_pw))\n",
    "        \n",
    "        \n",
    "        [ans[i].wait() for i in range(num_pr)]\n",
    "        arr = np.concatenate([ans[i].get() for i in range(num_pr)])\n",
    "        \n",
    "        \n",
    "        ln <<= 1\n",
    " \n",
    "\n",
    "    if (inv):\n",
    "        arr /= n   \n",
    "    \n",
    "    return arr"
   ]
  },
  {
   "cell_type": "code",
   "execution_count": 9,
   "id": "495d263e",
   "metadata": {},
   "outputs": [],
   "source": [
    "num_thr = [1, 2, 3, 4, 5]\n",
    "n = [1000, 10000, 100000, 1000000]\n",
    "time_ex, err = [], []"
   ]
  },
  {
   "cell_type": "code",
   "execution_count": 10,
   "id": "d97cc803",
   "metadata": {},
   "outputs": [],
   "source": [
    "for n_iter in n:\n",
    "    for n_thr in num_thr:\n",
    "        a = np.array([i for i in range(n_iter)], dtype=complex)\n",
    "        two_degr = pow(2, math.ceil(math.log2(len(a))))\n",
    "        a = np.concatenate([a, np.zeros(two_degr - len(a))])\n",
    "        \n",
    "        #start_time1 = time.time()\n",
    "        ans1 = np.fft.ifft(a, n=two_degr)\n",
    "        #end_time1 = time.time()\n",
    "\n",
    "        start_time2 = time.time()\n",
    "        ans2 = fft(a, True, two_degr, n_thr)\n",
    "        end_time2 = time.time()\n",
    "\n",
    "        time_ex.append(end_time2-start_time2)\n",
    "        err.append(np.linalg.norm(ans1- ans2))"
   ]
  },
  {
   "cell_type": "code",
   "execution_count": 35,
   "id": "5407c5de",
   "metadata": {},
   "outputs": [
    {
     "name": "stdout",
     "output_type": "stream",
     "text": [
      "╒════════════╤═══════════╤══════════╤══════════╤══════════╤══════════╕\n",
      "│            │         1 │        2 │        3 │        4 │        5 │\n",
      "╞════════════╪═══════════╪══════════╪══════════╪══════════╪══════════╡\n",
      "│   1000     │  0.11123  │ 0.139001 │ 0.169494 │ 0.188572 │ 0.227099 │\n",
      "├────────────┼───────────┼──────────┼──────────┼──────────┼──────────┤\n",
      "│  10000     │  0.349064 │ 0.399931 │ 0.387643 │ 0.473554 │ 0.497944 │\n",
      "├────────────┼───────────┼──────────┼──────────┼──────────┼──────────┤\n",
      "│ 100000     │  1.45001  │ 1.14523  │ 1.11876  │ 1.1108   │ 1.13505  │\n",
      "├────────────┼───────────┼──────────┼──────────┼──────────┼──────────┤\n",
      "│      1e+06 │ 11.0856   │ 7.49844  │ 6.26726  │ 5.73358  │ 5.47913  │\n",
      "╘════════════╧═══════════╧══════════╧══════════╧══════════╧══════════╛\n"
     ]
    }
   ],
   "source": [
    "timex_ex_np = np.array(time_ex).reshape(4, -1)\n",
    "table = tabulate(np.hstack([np.array(n).reshape(4, 1), timex_ex_np]), num_thr, tablefmt=\"fancy_grid\")\n",
    "\n",
    "print(table)"
   ]
  },
  {
   "cell_type": "code",
   "execution_count": 36,
   "id": "eedd8bb2",
   "metadata": {},
   "outputs": [
    {
     "name": "stdout",
     "output_type": "stream",
     "text": [
      "╒════════════╤═════════════╤═════════════╤═════════════╤═════════════╤═════════════╕\n",
      "│            │           1 │           2 │           3 │           4 │           5 │\n",
      "╞════════════╪═════════════╪═════════════╪═════════════╪═════════════╪═════════════╡\n",
      "│   1000     │ 2.97544e-12 │ 2.97544e-12 │ 2.97544e-12 │ 2.97544e-12 │ 2.97544e-12 │\n",
      "├────────────┼─────────────┼─────────────┼─────────────┼─────────────┼─────────────┤\n",
      "│  10000     │ 5.38838e-10 │ 5.38838e-10 │ 5.38838e-10 │ 5.38838e-10 │ 5.38838e-10 │\n",
      "├────────────┼─────────────┼─────────────┼─────────────┼─────────────┼─────────────┤\n",
      "│ 100000     │ 5.29746e-08 │ 5.29746e-08 │ 5.29746e-08 │ 5.29746e-08 │ 5.29746e-08 │\n",
      "├────────────┼─────────────┼─────────────┼─────────────┼─────────────┼─────────────┤\n",
      "│      1e+06 │ 3.23341e-06 │ 3.23341e-06 │ 3.23341e-06 │ 3.23341e-06 │ 3.23341e-06 │\n",
      "╘════════════╧═════════════╧═════════════╧═════════════╧═════════════╧═════════════╛\n"
     ]
    }
   ],
   "source": [
    "err_np = np.array(err).reshape(4, -1)\n",
    "table = tabulate(np.hstack([np.array(n).reshape(4, 1), err_np]), num_thr, tablefmt=\"fancy_grid\")\n",
    "\n",
    "print(table)"
   ]
  },
  {
   "cell_type": "code",
   "execution_count": null,
   "id": "a6372528",
   "metadata": {},
   "outputs": [],
   "source": []
  },
  {
   "cell_type": "code",
   "execution_count": null,
   "id": "040812c8",
   "metadata": {},
   "outputs": [],
   "source": []
  }
 ],
 "metadata": {
  "kernelspec": {
   "display_name": "Python 3 (ipykernel)",
   "language": "python",
   "name": "python3"
  },
  "language_info": {
   "codemirror_mode": {
    "name": "ipython",
    "version": 3
   },
   "file_extension": ".py",
   "mimetype": "text/x-python",
   "name": "python",
   "nbconvert_exporter": "python",
   "pygments_lexer": "ipython3",
   "version": "3.9.12"
  }
 },
 "nbformat": 4,
 "nbformat_minor": 5
}
