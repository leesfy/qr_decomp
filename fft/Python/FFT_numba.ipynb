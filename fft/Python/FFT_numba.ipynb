{
 "cells": [
  {
   "cell_type": "code",
   "execution_count": 1,
   "id": "9a29e62d",
   "metadata": {},
   "outputs": [],
   "source": [
    "import numpy as np\n",
    "from tqdm import tqdm\n",
    "import math\n",
    "import numba\n",
    "from numba import prange\n",
    "import time\n",
    "from tabulate import tabulate"
   ]
  },
  {
   "cell_type": "code",
   "execution_count": 2,
   "id": "5ff674cd",
   "metadata": {},
   "outputs": [],
   "source": [
    "@numba.jit(nopython=True, parallel=True)\n",
    "def butterfl_4(arr, inv, n):\n",
    "    conj = 1j* (-1 if inv else 1)\n",
    "    for i in prange((n+3)//4):\n",
    "        j = i*4\n",
    "        t1, t2 = arr[j], arr[j+1]\n",
    "        t3 = arr[j+2]\n",
    "        arr[j] = t1 + t2 + t3 + arr[j + 3]\n",
    "        arr[j + 1] = t1 - t2 - conj*(t3 - arr[j + 3])\n",
    "        arr[j + 2] = t1 + t2 - t3 - arr[j + 3]\n",
    "        arr[j + 3] = t1 - t2 + conj*(t3 - arr[j + 3])"
   ]
  },
  {
   "cell_type": "code",
   "execution_count": 3,
   "id": "bbb4a09c",
   "metadata": {},
   "outputs": [],
   "source": [
    "@numba.jit(nopython=True, parallel=True)\n",
    "def butterfl_2(arr, n):\n",
    "    for i in prange((n+1)// 2):\n",
    "        j = i*2\n",
    "        arr[j], arr[j + 1] = arr[j] + arr[j + 1], arr[j] - arr[j + 1]"
   ]
  },
  {
   "cell_type": "code",
   "execution_count": 4,
   "id": "e2825386",
   "metadata": {},
   "outputs": [],
   "source": [
    "@numba.jit(nopython=True, parallel=True)\n",
    "def permut(arr, n, lg_n):\n",
    "    for i in prange(n):\n",
    "        res = 0\n",
    "        for j in range(lg_n):\n",
    "            if (i & (1<<j)):\n",
    "                res |= 1<<(lg_n - 1 - j)\n",
    "                \n",
    "        if (i < res):\n",
    "            arr[i], arr[res] = arr[res], arr[i]"
   ]
  },
  {
   "cell_type": "code",
   "execution_count": 5,
   "id": "c8ccc13d",
   "metadata": {},
   "outputs": [],
   "source": [
    "@numba.jit(nopython=True, parallel=True)\n",
    "def butterfl_n(arr, n, ln, wlen_pw, max_deg):\n",
    "    for i in prange((n+ln-1)// ln):\n",
    "        p = i*ln\n",
    "        for j in range(ln//2):\n",
    "            u, v = arr[p + j], arr[p + j + max_deg] * wlen_pw[j]\n",
    "            arr[p + j] = u + v\n",
    "            arr[p + j + max_deg] = u - v"
   ]
  },
  {
   "cell_type": "code",
   "execution_count": 6,
   "id": "e3ba4b98",
   "metadata": {},
   "outputs": [],
   "source": [
    "def fft(arr, inv, n):\n",
    "    if (n == 1):\n",
    "        return\n",
    "\n",
    "    lg_n = np.ceil(np.log2(n)).astype(int);\n",
    "    permut(arr, n, lg_n)\n",
    "\n",
    "    wlen_pw = np.zeros(n, dtype=np.complex128)\n",
    "\n",
    "    if n >= 4:\n",
    "        butterfl_4(arr, inv, n)\n",
    "    elif (n >= 2):\n",
    "        butterfl_2(arr, n)\n",
    "        \n",
    "    ln = 8\n",
    "    while (ln <= n):\n",
    "        max_deg = ln >> 1;\n",
    "        ang = 2 * np.pi / ln * (1 if inv else -1)\n",
    "        wlen = np.cos(ang) + 1j*np.sin(ang)\n",
    "        wlen_pw = np.power(wlen, np.arange(0, max_deg), dtype=np.complex128)\n",
    "\n",
    "        butterfl_n(arr, n, ln, wlen_pw,max_deg)\n",
    "        \n",
    "        ln <<= 1\n",
    " \n",
    "\n",
    "    if (inv):\n",
    "        arr /= n   \n",
    "    \n",
    "    return arr"
   ]
  },
  {
   "cell_type": "code",
   "execution_count": 7,
   "id": "018abcb8",
   "metadata": {},
   "outputs": [],
   "source": [
    "num_thr = [1, 2, 3, 4, 5]\n",
    "n = [1000, 10000, 100000, 1000000]\n",
    "time_ex, err = [], []"
   ]
  },
  {
   "cell_type": "code",
   "execution_count": 8,
   "id": "83dd6b5b",
   "metadata": {},
   "outputs": [],
   "source": [
    "for n_iter in n:\n",
    "    for n_thr in num_thr:\n",
    "        a = np.array([i for i in range(n_iter)], dtype=complex)\n",
    "        two_degr = pow(2, math.ceil(math.log2(len(a))))\n",
    "        a = np.concatenate([a, np.zeros(two_degr - len(a))])\n",
    "        \n",
    "#         start_time1 = time.time()\n",
    "#         ans1 = np.fft.ifft(a, n=two_degr)\n",
    "#         end_time1 = time.time()\n",
    "    \n",
    "        start_time2 = time.time()\n",
    "        numba.set_num_threads(n_thr)\n",
    "        ans2 = fft(a, True, two_degr)\n",
    "        end_time2 = time.time()\n",
    "\n",
    "        time_ex.append(end_time2-start_time2)\n",
    "        #err.append(np.linalg.norm(ans1- ans2))"
   ]
  },
  {
   "cell_type": "code",
   "execution_count": 9,
   "id": "95dc6bef",
   "metadata": {},
   "outputs": [
    {
     "name": "stdout",
     "output_type": "stream",
     "text": [
      "╒════════════╤════════════╤════════════╤═════════════╤═════════════╤═════════════╕\n",
      "│            │          1 │          2 │           3 │           4 │           5 │\n",
      "╞════════════╪════════════╪════════════╪═════════════╪═════════════╪═════════════╡\n",
      "│   1000     │ 0.942719   │ 0.00030899 │ 0.000298738 │ 0.000332355 │ 0.000323772 │\n",
      "├────────────┼────────────┼────────────┼─────────────┼─────────────┼─────────────┤\n",
      "│  10000     │ 0.00358915 │ 0.00372624 │ 0.00372148  │ 0.00382733  │ 0.00405765  │\n",
      "├────────────┼────────────┼────────────┼─────────────┼─────────────┼─────────────┤\n",
      "│ 100000     │ 0.0317006  │ 0.0307918  │ 0.0316379   │ 0.0307765   │ 0.0303197   │\n",
      "├────────────┼────────────┼────────────┼─────────────┼─────────────┼─────────────┤\n",
      "│      1e+06 │ 0.305897   │ 0.270873   │ 0.256774    │ 0.251526    │ 0.252842    │\n",
      "╘════════════╧════════════╧════════════╧═════════════╧═════════════╧═════════════╛\n"
     ]
    }
   ],
   "source": [
    "timex_ex_np = np.array(time_ex).reshape(4, -1)\n",
    "table = tabulate(np.hstack([np.array(n).reshape(4, 1), timex_ex_np]), num_thr, tablefmt=\"fancy_grid\")\n",
    "\n",
    "print(table)"
   ]
  },
  {
   "cell_type": "code",
   "execution_count": 11,
   "id": "2d41190b",
   "metadata": {},
   "outputs": [
    {
     "name": "stdout",
     "output_type": "stream",
     "text": [
      "╒════════════╤═════════════╤═════════════╤═════════════╤═════════════╤═════════════╕\n",
      "│            │           1 │           2 │           3 │           4 │           5 │\n",
      "╞════════════╪═════════════╪═════════════╪═════════════╪═════════════╪═════════════╡\n",
      "│   1000     │ 2.97544e-12 │ 2.97544e-12 │ 2.97544e-12 │ 2.97544e-12 │ 2.97544e-12 │\n",
      "├────────────┼─────────────┼─────────────┼─────────────┼─────────────┼─────────────┤\n",
      "│  10000     │ 5.38838e-10 │ 5.38838e-10 │ 5.38838e-10 │ 5.38838e-10 │ 5.38838e-10 │\n",
      "├────────────┼─────────────┼─────────────┼─────────────┼─────────────┼─────────────┤\n",
      "│ 100000     │ 5.29746e-08 │ 5.29746e-08 │ 5.29746e-08 │ 5.29746e-08 │ 5.29746e-08 │\n",
      "├────────────┼─────────────┼─────────────┼─────────────┼─────────────┼─────────────┤\n",
      "│      1e+06 │ 3.23341e-06 │ 3.23341e-06 │ 3.23341e-06 │ 3.23341e-06 │ 3.23341e-06 │\n",
      "╘════════════╧═════════════╧═════════════╧═════════════╧═════════════╧═════════════╛\n"
     ]
    }
   ],
   "source": [
    "err_np = np.array(err).reshape(4, -1)\n",
    "table = tabulate(np.hstack([np.array(n).reshape(4, 1), err_np]), num_thr, tablefmt=\"fancy_grid\")\n",
    "\n",
    "print(table)"
   ]
  },
  {
   "cell_type": "code",
   "execution_count": null,
   "id": "6041d57c",
   "metadata": {},
   "outputs": [],
   "source": []
  },
  {
   "cell_type": "code",
   "execution_count": null,
   "id": "e0eca26e",
   "metadata": {},
   "outputs": [],
   "source": []
  },
  {
   "cell_type": "code",
   "execution_count": null,
   "id": "22fcc129",
   "metadata": {},
   "outputs": [],
   "source": []
  },
  {
   "cell_type": "code",
   "execution_count": null,
   "id": "b710e0ea",
   "metadata": {},
   "outputs": [],
   "source": []
  }
 ],
 "metadata": {
  "kernelspec": {
   "display_name": "Python 3 (ipykernel)",
   "language": "python",
   "name": "python3"
  },
  "language_info": {
   "codemirror_mode": {
    "name": "ipython",
    "version": 3
   },
   "file_extension": ".py",
   "mimetype": "text/x-python",
   "name": "python",
   "nbconvert_exporter": "python",
   "pygments_lexer": "ipython3",
   "version": "3.9.12"
  }
 },
 "nbformat": 4,
 "nbformat_minor": 5
}
